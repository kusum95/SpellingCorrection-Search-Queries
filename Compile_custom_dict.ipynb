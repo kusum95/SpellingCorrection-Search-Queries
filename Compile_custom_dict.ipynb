{
 "cells": [
  {
   "cell_type": "markdown",
   "id": "b3717be0",
   "metadata": {},
   "source": [
    "### Access BR3 item data"
   ]
  },
  {
   "cell_type": "code",
   "execution_count": 1,
   "id": "33a6455e",
   "metadata": {},
   "outputs": [
    {
     "name": "stdout",
     "output_type": "stream",
     "text": [
      "p: ········\n",
      "2023-02-22 17:25:58,309 | INFO | dataminer : Connecting user z00c01y\n"
     ]
    },
    {
     "data": {
      "text/html": [
       "<div>\n",
       "<style scoped>\n",
       "    .dataframe tbody tr th:only-of-type {\n",
       "        vertical-align: middle;\n",
       "    }\n",
       "\n",
       "    .dataframe tbody tr th {\n",
       "        vertical-align: top;\n",
       "    }\n",
       "\n",
       "    .dataframe thead th {\n",
       "        text-align: right;\n",
       "    }\n",
       "</style>\n",
       "<table border=\"1\" class=\"dataframe\">\n",
       "  <thead>\n",
       "    <tr style=\"text-align: right;\">\n",
       "      <th></th>\n",
       "      <th>brand_n</th>\n",
       "    </tr>\n",
       "  </thead>\n",
       "  <tbody>\n",
       "    <tr>\n",
       "      <th>0</th>\n",
       "      <td>#Boneless</td>\n",
       "    </tr>\n",
       "    <tr>\n",
       "      <th>1</th>\n",
       "      <td>1 Badd Ride</td>\n",
       "    </tr>\n",
       "    <tr>\n",
       "      <th>2</th>\n",
       "      <td>1 Basics Made Simple</td>\n",
       "    </tr>\n",
       "    <tr>\n",
       "      <th>3</th>\n",
       "      <td>1 Million</td>\n",
       "    </tr>\n",
       "    <tr>\n",
       "      <th>4</th>\n",
       "      <td>10 Barrel Brewing Co.</td>\n",
       "    </tr>\n",
       "  </tbody>\n",
       "</table>\n",
       "</div>"
      ],
      "text/plain": [
       "                 brand_n\n",
       "0              #Boneless\n",
       "1            1 Badd Ride\n",
       "2   1 Basics Made Simple\n",
       "3              1 Million\n",
       "4  10 Barrel Brewing Co."
      ]
     },
     "execution_count": 1,
     "metadata": {},
     "output_type": "execute_result"
    }
   ],
   "source": [
    "from dataminer.connector import BigRed3\n",
    "from dataminer.utils import get_secret\n",
    "\n",
    "# establish connection\n",
    "p = get_secret('p')\n",
    "br3 = BigRed3(password=p)\n",
    "\n",
    "# write your sql statement\n",
    "sql_brand = \"SELECT DISTINCT brand_n FROM prd_itm_fnd.item WHERE (brand_n IS NOT NULL) AND (brand_n != '') AND (brand_n != 'No Brand') AND (brand_n != 'No Name')\"\n",
    "\n",
    "# set parameters\n",
    "br3.execute('''set hive.execution.engine = tez''')\n",
    "\n",
    "# run query and view data\n",
    "df_brandname = br3.query(sql_brand)\n",
    "df_brandname.head()"
   ]
  },
  {
   "cell_type": "code",
   "execution_count": 5,
   "id": "4cb98b13",
   "metadata": {},
   "outputs": [],
   "source": [
    "# save data to csv\n",
    "\n",
    "# df.to_csv('distinct_brand_name.csv', index=False)"
   ]
  },
  {
   "cell_type": "markdown",
   "id": "16030222",
   "metadata": {},
   "source": [
    "### Dictionary part 1 - common English words"
   ]
  },
  {
   "cell_type": "code",
   "execution_count": 2,
   "id": "62db0063",
   "metadata": {},
   "outputs": [],
   "source": [
    "# load nltk package\n",
    "\n",
    "# pip install nltk\n",
    "import nltk"
   ]
  },
  {
   "cell_type": "code",
   "execution_count": 11,
   "id": "fb9c6e0c",
   "metadata": {},
   "outputs": [
    {
     "name": "stderr",
     "output_type": "stream",
     "text": [
      "[nltk_data] Downloading package brown to /home/dataminer/nltk_data...\n",
      "[nltk_data]   Package brown is already up-to-date!\n"
     ]
    },
    {
     "data": {
      "text/plain": [
       "['the',\n",
       " 'fulton',\n",
       " 'county',\n",
       " 'grand',\n",
       " 'jury',\n",
       " 'said',\n",
       " 'friday',\n",
       " 'an',\n",
       " 'investigation',\n",
       " 'of']"
      ]
     },
     "execution_count": 11,
     "metadata": {},
     "output_type": "execute_result"
    }
   ],
   "source": [
    "# download English words\n",
    "\n",
    "nltk.download('brown')\n",
    "from nltk.corpus import brown\n",
    "\n",
    "brown_nltk = brown.words()\n",
    "english_dictionary_lst = []\n",
    "for ele in brown_nltk:\n",
    "    # make all lowercases\n",
    "    ele_lower = ele.lower()\n",
    "    # remove potential duplicates\n",
    "    if ele_lower not in english_dictionary_lst:\n",
    "        english_dictionary_lst.append(ele_lower)\n",
    "    else:\n",
    "        pass\n",
    "english_dictionary_lst[:10]"
   ]
  },
  {
   "cell_type": "code",
   "execution_count": 12,
   "id": "b0485ee7",
   "metadata": {},
   "outputs": [
    {
     "data": {
      "text/plain": [
       "49815"
      ]
     },
     "execution_count": 12,
     "metadata": {},
     "output_type": "execute_result"
    }
   ],
   "source": [
    "# check current list length\n",
    "\n",
    "len(english_dictionary_lst)"
   ]
  },
  {
   "cell_type": "markdown",
   "id": "6569d2e9",
   "metadata": {},
   "source": [
    "### Dictionary part 2 - Target products brand names"
   ]
  },
  {
   "cell_type": "code",
   "execution_count": 19,
   "id": "75c4330c",
   "metadata": {},
   "outputs": [
    {
     "data": {
      "text/plain": [
       "['#Boneless',\n",
       " '1 Badd Ride',\n",
       " '1 Basics Made Simple',\n",
       " '1 Million',\n",
       " '10 Barrel Brewing Co.',\n",
       " '10 Strawberry Street',\n",
       " '1000toys',\n",
       " '103 Collection',\n",
       " '10th Avenue Tea',\n",
       " '11 Wells']"
      ]
     },
     "execution_count": 19,
     "metadata": {},
     "output_type": "execute_result"
    }
   ],
   "source": [
    "# using the distinct brand names from item table\n",
    "\n",
    "tgt_brand_n_lst = df_brandname['brand_n'].values.tolist()\n",
    "tgt_brand_n_lst[:10]"
   ]
  },
  {
   "cell_type": "code",
   "execution_count": 20,
   "id": "4499cdc8",
   "metadata": {},
   "outputs": [
    {
     "data": {
      "text/plain": [
       "37536"
      ]
     },
     "execution_count": 20,
     "metadata": {},
     "output_type": "execute_result"
    }
   ],
   "source": [
    "# make all brand name lower cases\n",
    "tgt_brand_n_lst_lower = []\n",
    "for bn in tgt_brand_n_lst:\n",
    "    # make all lowercases\n",
    "    bn_lower = bn.lower()\n",
    "    # remove potential duplicates\n",
    "    if bn_lower not in tgt_brand_n_lst_lower:\n",
    "        tgt_brand_n_lst_lower.append(bn_lower)\n",
    "    else:\n",
    "        pass\n",
    "\n",
    "# check current list length\n",
    "len(tgt_brand_n_lst_lower)"
   ]
  },
  {
   "cell_type": "code",
   "execution_count": 21,
   "id": "20eae134",
   "metadata": {},
   "outputs": [
    {
     "data": {
      "text/plain": [
       "85094"
      ]
     },
     "execution_count": 21,
     "metadata": {},
     "output_type": "execute_result"
    }
   ],
   "source": [
    "# appending brand names to english dictionary list\n",
    "\n",
    "eng_brand_dictionary_lst = english_dictionary_lst.copy()\n",
    "eng_brand_dictionary_lst.extend(tgt_brand_n_lst_lower)\n",
    "eng_brand_dictionary_lst = list(set(eng_brand_dictionary_lst))\n",
    "len(eng_brand_dictionary_lst)"
   ]
  },
  {
   "cell_type": "markdown",
   "id": "89da0b55",
   "metadata": {},
   "source": [
    "### Dictionary part 3 - Seperate brand names into individual words and save to dictionary as well"
   ]
  },
  {
   "cell_type": "code",
   "execution_count": 24,
   "id": "c0ff5e11",
   "metadata": {},
   "outputs": [
    {
     "data": {
      "text/plain": [
       "['equil',\n",
       " 'heywell',\n",
       " 'standdesk',\n",
       " 'biskit',\n",
       " 'azulle',\n",
       " 'duluth',\n",
       " 'bender',\n",
       " 'pinkie',\n",
       " 'thy-hom',\n",
       " 'ww']"
      ]
     },
     "execution_count": 24,
     "metadata": {},
     "output_type": "execute_result"
    }
   ],
   "source": [
    "# split brand names into individual words\n",
    "\n",
    "tgt_brand_word_lst = []\n",
    "for n in tgt_brand_n_lst_lower:\n",
    "    n_lst = n.split()\n",
    "    tgt_brand_word_lst.extend(n_lst)\n",
    "\n",
    "# remove duplicates\n",
    "tgt_brand_word_lst = list(set(tgt_brand_word_lst))\n",
    "tgt_brand_word_lst[:10]"
   ]
  },
  {
   "cell_type": "code",
   "execution_count": 26,
   "id": "0bca32eb",
   "metadata": {},
   "outputs": [
    {
     "data": {
      "text/plain": [
       "29760"
      ]
     },
     "execution_count": 26,
     "metadata": {},
     "output_type": "execute_result"
    }
   ],
   "source": [
    "# check current list length\n",
    "\n",
    "len(tgt_brand_word_lst)"
   ]
  },
  {
   "cell_type": "code",
   "execution_count": 27,
   "id": "b6cc21be",
   "metadata": {},
   "outputs": [
    {
     "data": {
      "text/plain": [
       "92603"
      ]
     },
     "execution_count": 27,
     "metadata": {},
     "output_type": "execute_result"
    }
   ],
   "source": [
    "# appending brand words to dictionary list\n",
    "\n",
    "eng_brand_dictionary_lst.extend(tgt_brand_word_lst)\n",
    "eng_brand_dictionary_lst = list(set(eng_brand_dictionary_lst))\n",
    "len(eng_brand_dictionary_lst)"
   ]
  },
  {
   "cell_type": "markdown",
   "id": "13717db4",
   "metadata": {},
   "source": [
    "### Export current dictionary to csv and store in database"
   ]
  },
  {
   "cell_type": "code",
   "execution_count": 30,
   "id": "86785aba",
   "metadata": {},
   "outputs": [],
   "source": [
    "import pandas as pd"
   ]
  },
  {
   "cell_type": "code",
   "execution_count": 31,
   "id": "3d747489",
   "metadata": {},
   "outputs": [
    {
     "data": {
      "text/html": [
       "<div>\n",
       "<style scoped>\n",
       "    .dataframe tbody tr th:only-of-type {\n",
       "        vertical-align: middle;\n",
       "    }\n",
       "\n",
       "    .dataframe tbody tr th {\n",
       "        vertical-align: top;\n",
       "    }\n",
       "\n",
       "    .dataframe thead th {\n",
       "        text-align: right;\n",
       "    }\n",
       "</style>\n",
       "<table border=\"1\" class=\"dataframe\">\n",
       "  <thead>\n",
       "    <tr style=\"text-align: right;\">\n",
       "      <th></th>\n",
       "      <th>words</th>\n",
       "    </tr>\n",
       "  </thead>\n",
       "  <tbody>\n",
       "    <tr>\n",
       "      <th>0</th>\n",
       "      <td>the flux capacity</td>\n",
       "    </tr>\n",
       "    <tr>\n",
       "      <th>1</th>\n",
       "      <td>equil</td>\n",
       "    </tr>\n",
       "    <tr>\n",
       "      <th>2</th>\n",
       "      <td>heywell</td>\n",
       "    </tr>\n",
       "    <tr>\n",
       "      <th>3</th>\n",
       "      <td>jerusalem</td>\n",
       "    </tr>\n",
       "    <tr>\n",
       "      <th>4</th>\n",
       "      <td>woke</td>\n",
       "    </tr>\n",
       "  </tbody>\n",
       "</table>\n",
       "</div>"
      ],
      "text/plain": [
       "               words\n",
       "0  the flux capacity\n",
       "1              equil\n",
       "2            heywell\n",
       "3          jerusalem\n",
       "4               woke"
      ]
     },
     "execution_count": 31,
     "metadata": {},
     "output_type": "execute_result"
    }
   ],
   "source": [
    "# create a dataframe\n",
    "dictionary_df = pd.DataFrame({'words':eng_brand_dictionary_lst})\n",
    "dictionary_df.head()"
   ]
  },
  {
   "cell_type": "code",
   "execution_count": 35,
   "id": "ed8517ba",
   "metadata": {},
   "outputs": [],
   "source": [
    "dictionary_df.to_csv('dictionary_v1.csv', index=False, header=False)"
   ]
  },
  {
   "cell_type": "code",
   "execution_count": 37,
   "id": "e2e73316",
   "metadata": {},
   "outputs": [
    {
     "data": {
      "text/plain": [
       "(92603, 1)"
      ]
     },
     "execution_count": 37,
     "metadata": {},
     "output_type": "execute_result"
    }
   ],
   "source": [
    "dictionary_df.shape"
   ]
  }
 ],
 "metadata": {
  "kernelspec": {
   "display_name": "Python 3 (ipykernel)",
   "language": "python",
   "name": "python3"
  },
  "language_info": {
   "codemirror_mode": {
    "name": "ipython",
    "version": 3
   },
   "file_extension": ".py",
   "mimetype": "text/x-python",
   "name": "python",
   "nbconvert_exporter": "python",
   "pygments_lexer": "ipython3",
   "version": "3.7.11"
  }
 },
 "nbformat": 4,
 "nbformat_minor": 5
}
